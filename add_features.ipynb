{
 "cells": [
  {
   "cell_type": "code",
   "execution_count": null,
   "metadata": {},
   "outputs": [],
   "source": [
    "import pandas as pd\n",
    "import numpy as np\n",
    "\n",
    "from nltk.tokenize import RegexpTokenizer\n",
    "tokenizerreg = RegexpTokenizer(r'\\w+')\n",
    "\n",
    "from gensim.models import KeyedVectors\n",
    "from gensim.scripts.glove2word2vec import glove2word2vec\n",
    "\n",
    "from sklearn.preprocessing import StandardScaler"
   ]
  },
  {
   "cell_type": "markdown",
   "metadata": {},
   "source": [
    "### Load data"
   ]
  },
  {
   "cell_type": "code",
   "execution_count": null,
   "metadata": {},
   "outputs": [],
   "source": [
    "# load all data (OLID train, test and HASOC train) \n",
    "olid_train = pd.read_csv('data/olid-train-all.csv', delimiter=',')\n",
    "hasoc_train = pd.read_csv('data/hasoc-train-all.csv', delimiter=',')\n",
    "olid_test = pd.read_csv('data/olid-test.csv', delimiter=',')\n",
    "\n",
    "all_datasets = [olid_train, hasoc_train, olid_test]"
   ]
  },
  {
   "cell_type": "code",
   "execution_count": null,
   "metadata": {},
   "outputs": [],
   "source": [
    "# load hate speech lexicon \n",
    "hatepath = r'data\\hatebase_dict_vua_format.csv'\n",
    "hate_df = pd.read_csv(hatepath, delimiter=';')\n",
    "hate_lex = list(hate_df['Entry'])"
   ]
  },
  {
   "cell_type": "code",
   "execution_count": null,
   "metadata": {},
   "outputs": [],
   "source": [
    "# load glove word embedding model\n",
    "path = 'glove.twitter.27B.100d.txt' # set this path corectly\n",
    "glove2word2vec(glove_input_file=path, word2vec_output_file=\"gensim_glove_vectors.txt\")\n",
    "model = KeyedVectors.load_word2vec_format(\"gensim_glove_vectors.txt\", binary=False)"
   ]
  },
  {
   "cell_type": "markdown",
   "metadata": {},
   "source": [
    "### Extract features"
   ]
  },
  {
   "cell_type": "code",
   "execution_count": null,
   "metadata": {},
   "outputs": [],
   "source": [
    "# set all functions to retrieve the features\n",
    "def chars(val):\n",
    "    return len(val)\n",
    "\n",
    "def word_count(val):\n",
    "    return len(tokenizerreg.tokenize(val))\n",
    "\n",
    "def av_wordlen(val):\n",
    "    words = tokenizerreg.tokenize(val)\n",
    "    total_len = 0\n",
    "    for word in words:\n",
    "        total_len += len(word)\n",
    "    try:\n",
    "        return total_len/len(words)\n",
    "    except:\n",
    "        return 0\n",
    "\n",
    "def caps_ratio(val):\n",
    "    return sum(map(str.isupper, val))/len(val)\n",
    "\n",
    "def excl_ratio(val):\n",
    "    return val.count('!')/len(val)\n",
    "\n",
    "def hate_ratio(val):\n",
    "    words = tokenizerreg.tokenize(val)\n",
    "    hates = len([t for t in words if t in hate_lex])\n",
    "    return hates/len(words)\n",
    "\n",
    "def pronoun_ratio(val):\n",
    "    words = tokenizerreg.tokenize(val)\n",
    "    pronouns = sum([words.count(x) for x in ['us','we','i', 'me', 'mine', 'ours', 'myself', 'ourselves']])\n",
    "    # if pronouns==0:\n",
    "    #     pronouns=1\n",
    "    try:\n",
    "        return pronouns/len(words)\n",
    "    except:\n",
    "        return 0\n",
    "\n",
    "def unknown_ratio(val):\n",
    "    tokens = tokenizerreg.tokenize(val)\n",
    "    unknown=0\n",
    "    for t in tokens:\n",
    "        if t in model:\n",
    "            continue\n",
    "        else:\n",
    "            unknown+=1\n",
    "    return unknown/len(tokens)"
   ]
  },
  {
   "cell_type": "code",
   "execution_count": null,
   "metadata": {},
   "outputs": [],
   "source": [
    "# Add features to each dataset\n",
    "for data in all_datasets:\n",
    "    data['Number of Characters'] = data.text.transform(chars)\n",
    "    data['Number of words'] = data.text.transform(word_count)\n",
    "    data['Average wordlength'] = data.text.transform(av_wordlen)\n",
    "    data['Capitalization ratio'] = data.text.transform(caps_ratio)\n",
    "    data['Exclamation mark ratio'] = data.text.transform(excl_ratio)\n",
    "    data['Hate word ratio'] = data.text.transform(hate_ratio)\n",
    "    data['1st person pronoun ratio'] = data.text.transform(pronoun_ratio)\n",
    "    data['Unknown words ratio'] = data.text.transform(unknown_ratio)"
   ]
  },
  {
   "cell_type": "markdown",
   "metadata": {},
   "source": [
    "### Scale all features\n",
    "and store a new file with scaled features and input ID's"
   ]
  },
  {
   "cell_type": "code",
   "execution_count": null,
   "metadata": {},
   "outputs": [],
   "source": [
    "# separate scaler for each training set\n",
    "olid_scaler = StandardScaler()\n",
    "hasoc_scaler = StandardScaler()\n",
    "\n",
    "# set a temporary df contain only the id's of the data\n",
    "temp_df = olid_train[['id']]\n",
    "\n",
    "# scale the features and transform the scaler to this set and generate new df\n",
    "olid_scaled = olid_scaler.fit_transform(olid_train[[\n",
    "  'text_length','#words','av_wordlen','Caps','Excl','pronouns','unknownwords','Hate']].to_numpy())\n",
    "olid_scaled = pd.DataFrame(olid_scaled, columns=[\n",
    "  'text_length','#words','av_wordlen','Caps','Excl','pronouns','unknownwords','Hate'])\n",
    "\n",
    "# Add scaled features to the temporary df\n",
    "full_olid_train_scaled = pd.concat([temp_df, olid_scaled], axis=1)\n",
    "\n",
    "# same for HASOC data\n",
    "temp_df = hasoc_train[['id']]\n",
    "hasoc_scaled = hasoc_scaler.fit_transform(hasoc_train[[\n",
    "  'text_length','#words','av_wordlen','Caps','Excl','pronouns','unknownwords','Hate']].to_numpy())\n",
    "hasoc_scaled = pd.DataFrame(hasoc_scaled, columns=[\n",
    "  'text_length','#words','av_wordlen','Caps','Excl','pronouns','unknownwords','Hate'])\n",
    "\n",
    "full_hasoc_train_scaled = pd.concat([temp_df, hasoc_scaled], axis=1)"
   ]
  },
  {
   "cell_type": "code",
   "execution_count": null,
   "metadata": {},
   "outputs": [],
   "source": [
    "# Test data is scaled based on both scalers, depending on model.\n",
    "# For cross-domain, data is scaled with hasoc_scaler, in-domain with olid_scaler\n",
    "temp_df = olid_test[['id']]\n",
    "\n",
    "test_olid_scaled = olid_scaler.transform(olid_test[[\n",
    "  'text_length','#words','av_wordlen','Caps','Excl','pronouns','unknownwords','Hate']].to_numpy())\n",
    "test_olid_scaled = pd.DataFrame(test_olid_scaled, columns=[\n",
    "  'text_length','#words','av_wordlen','Caps','Excl','pronouns','unknownwords','Hate'])\n",
    "full_olid_test_olid_scaled = pd.concat([temp_df, test_olid_scaled], axis=1)\n",
    "\n",
    "test_hasoc_scaled = hasoc_scaler.transform(olid_test[[\n",
    "  'text_length','#words','av_wordlen','Caps','Excl','pronouns','unknownwords','Hate']].to_numpy())\n",
    "test_hasoc_scaled = pd.DataFrame(test_hasoc_scaled, columns=[\n",
    "  'text_length','#words','av_wordlen','Caps','Excl','pronouns','unknownwords','Hate'])\n",
    "full_olid_test_hasoc_scaled = pd.concat([temp_df, test_hasoc_scaled], axis=1)"
   ]
  },
  {
   "cell_type": "code",
   "execution_count": null,
   "metadata": {},
   "outputs": [],
   "source": [
    "# store data with added features\n",
    "full_olid_train_scaled.to_csv('data\\olid_train_scaled_features.csv', sep=';')\n",
    "full_hasoc_train_scaled.to_csv('data\\hasoc_train_scaled_features.csv', sep=';')\n",
    "\n",
    "full_olid_test_olid_scaled.to_csv('data\\olid_test_olid_scaled_features.csv', sep=';')\n",
    "full_olid_test_hasoc_scaled.to_csv('data\\olid_test_hasoc_scaled_features.csv', sep=';')"
   ]
  }
 ],
 "metadata": {
  "kernelspec": {
   "display_name": "Python 3",
   "language": "python",
   "name": "python3"
  },
  "language_info": {
   "codemirror_mode": {
    "name": "ipython",
    "version": 3
   },
   "file_extension": ".py",
   "mimetype": "text/x-python",
   "name": "python",
   "nbconvert_exporter": "python",
   "pygments_lexer": "ipython3",
   "version": "3.8.8"
  },
  "vscode": {
   "interpreter": {
    "hash": "e6f88519aa74d89c62cdcc59414067e256965681425d9b4dee1ef762f1172e6f"
   }
  }
 },
 "nbformat": 4,
 "nbformat_minor": 4
}
